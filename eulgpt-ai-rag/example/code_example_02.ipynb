{
 "cells": [
  {
   "cell_type": "markdown",
   "id": "041d759b",
   "metadata": {},
   "source": [
    "## 💬 Groq (또는 ChatGPT) API에서 대화 맥락 유지하기\n",
    "\n",
    "Groq와 같은 Chat Completion API는 **stateless**입니다.  \n",
    "즉, 이전 대화 내용을 기억하지 않기 때문에, **대화 맥락을 유지하려면 이전 메시지를 함께 보내야** 합니다.\n",
    "\n",
    "---\n",
    "\n",
    "### ✅ 기본 구조\n",
    "\n",
    "```python\n",
    "messages = [\n",
    "    {\"role\": \"system\", \"content\": \"당신은 친절한 AI 비서입니다.\"},\n",
    "    {\"role\": \"user\", \"content\": \"오늘 날씨 어때?\"},\n",
    "    {\"role\": \"assistant\", \"content\": \"서울은 맑고 기온은 22도입니다.\"},\n",
    "    {\"role\": \"user\", \"content\": \"그럼 내일은?\"}\n",
    "]\n"
   ]
  }
 ],
 "metadata": {
  "language_info": {
   "name": "python"
  }
 },
 "nbformat": 4,
 "nbformat_minor": 5
}
